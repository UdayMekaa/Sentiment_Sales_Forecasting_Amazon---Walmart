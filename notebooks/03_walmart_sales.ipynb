{
 "cells": [
  {
   "cell_type": "code",
   "execution_count": 7,
   "id": "02cda3b2-1750-4bd0-83ed-b6a7ca316f40",
   "metadata": {},
   "outputs": [
    {
     "name": "stdout",
     "output_type": "stream",
     "text": [
      "Shape: (421570, 5)\n"
     ]
    },
    {
     "data": {
      "text/html": [
       "<div>\n",
       "<style scoped>\n",
       "    .dataframe tbody tr th:only-of-type {\n",
       "        vertical-align: middle;\n",
       "    }\n",
       "\n",
       "    .dataframe tbody tr th {\n",
       "        vertical-align: top;\n",
       "    }\n",
       "\n",
       "    .dataframe thead th {\n",
       "        text-align: right;\n",
       "    }\n",
       "</style>\n",
       "<table border=\"1\" class=\"dataframe\">\n",
       "  <thead>\n",
       "    <tr style=\"text-align: right;\">\n",
       "      <th></th>\n",
       "      <th>Store</th>\n",
       "      <th>Dept</th>\n",
       "      <th>Date</th>\n",
       "      <th>Weekly_Sales</th>\n",
       "      <th>IsHoliday</th>\n",
       "    </tr>\n",
       "  </thead>\n",
       "  <tbody>\n",
       "    <tr>\n",
       "      <th>0</th>\n",
       "      <td>1</td>\n",
       "      <td>1</td>\n",
       "      <td>2010-02-05</td>\n",
       "      <td>24924.50</td>\n",
       "      <td>False</td>\n",
       "    </tr>\n",
       "    <tr>\n",
       "      <th>1</th>\n",
       "      <td>1</td>\n",
       "      <td>1</td>\n",
       "      <td>2010-02-12</td>\n",
       "      <td>46039.49</td>\n",
       "      <td>True</td>\n",
       "    </tr>\n",
       "    <tr>\n",
       "      <th>2</th>\n",
       "      <td>1</td>\n",
       "      <td>1</td>\n",
       "      <td>2010-02-19</td>\n",
       "      <td>41595.55</td>\n",
       "      <td>False</td>\n",
       "    </tr>\n",
       "    <tr>\n",
       "      <th>3</th>\n",
       "      <td>1</td>\n",
       "      <td>1</td>\n",
       "      <td>2010-02-26</td>\n",
       "      <td>19403.54</td>\n",
       "      <td>False</td>\n",
       "    </tr>\n",
       "    <tr>\n",
       "      <th>4</th>\n",
       "      <td>1</td>\n",
       "      <td>1</td>\n",
       "      <td>2010-03-05</td>\n",
       "      <td>21827.90</td>\n",
       "      <td>False</td>\n",
       "    </tr>\n",
       "  </tbody>\n",
       "</table>\n",
       "</div>"
      ],
      "text/plain": [
       "   Store  Dept        Date  Weekly_Sales  IsHoliday\n",
       "0      1     1  2010-02-05      24924.50      False\n",
       "1      1     1  2010-02-12      46039.49       True\n",
       "2      1     1  2010-02-19      41595.55      False\n",
       "3      1     1  2010-02-26      19403.54      False\n",
       "4      1     1  2010-03-05      21827.90      False"
      ]
     },
     "execution_count": 7,
     "metadata": {},
     "output_type": "execute_result"
    }
   ],
   "source": [
    "import pandas as pd\n",
    "\n",
    "# Load the dataset\n",
    "df = pd.read_csv('train.csv.zip')\n",
    "\n",
    "# Preview\n",
    "print(\"Shape:\", df.shape)\n",
    "df.head()\n"
   ]
  },
  {
   "cell_type": "code",
   "execution_count": 9,
   "id": "efd31e90-10f4-4399-a6a3-27c28350d70f",
   "metadata": {},
   "outputs": [],
   "source": [
    "df['Date'] = pd.to_datetime(df['Date'])"
   ]
  },
  {
   "cell_type": "code",
   "execution_count": 10,
   "id": "c7cdb7c1-0476-4ce7-a5f3-7b18ea8152e0",
   "metadata": {},
   "outputs": [],
   "source": [
    "df = df.sort_values(by ='Date')"
   ]
  },
  {
   "cell_type": "code",
   "execution_count": 12,
   "id": "940af8c2-2348-422c-a887-deaa7605ef70",
   "metadata": {},
   "outputs": [
    {
     "name": "stdout",
     "output_type": "stream",
     "text": [
      "<bound method DataFrame.sum of         Store   Dept   Date  Weekly_Sales  IsHoliday\n",
      "0       False  False  False         False      False\n",
      "277665  False  False  False         False      False\n",
      "277808  False  False  False         False      False\n",
      "277951  False  False  False         False      False\n",
      "278094  False  False  False         False      False\n",
      "...       ...    ...    ...           ...        ...\n",
      "379648  False  False  False         False      False\n",
      "181170  False  False  False         False      False\n",
      "181313  False  False  False         False      False\n",
      "181599  False  False  False         False      False\n",
      "421569  False  False  False         False      False\n",
      "\n",
      "[421570 rows x 5 columns]>\n"
     ]
    }
   ],
   "source": [
    "print(df.isnull().sum)"
   ]
  },
  {
   "cell_type": "code",
   "execution_count": 13,
   "id": "3c683c68-56b2-409d-9bf2-4a642a528cfb",
   "metadata": {},
   "outputs": [],
   "source": [
    "df = df.dropna()"
   ]
  },
  {
   "cell_type": "code",
   "execution_count": 14,
   "id": "1c48b5b2-9f5b-4934-a7ac-a01ec493c2e0",
   "metadata": {},
   "outputs": [],
   "source": [
    "df['YearMonth'] = df['Date'].dt.to_period('M').astype(str)"
   ]
  },
  {
   "cell_type": "code",
   "execution_count": 15,
   "id": "065de8f7-f340-476f-b8a3-3f2ffee5c0b5",
   "metadata": {},
   "outputs": [
    {
     "data": {
      "text/html": [
       "<div>\n",
       "<style scoped>\n",
       "    .dataframe tbody tr th:only-of-type {\n",
       "        vertical-align: middle;\n",
       "    }\n",
       "\n",
       "    .dataframe tbody tr th {\n",
       "        vertical-align: top;\n",
       "    }\n",
       "\n",
       "    .dataframe thead th {\n",
       "        text-align: right;\n",
       "    }\n",
       "</style>\n",
       "<table border=\"1\" class=\"dataframe\">\n",
       "  <thead>\n",
       "    <tr style=\"text-align: right;\">\n",
       "      <th></th>\n",
       "      <th>Store</th>\n",
       "      <th>Dept</th>\n",
       "      <th>Date</th>\n",
       "      <th>Weekly_Sales</th>\n",
       "      <th>IsHoliday</th>\n",
       "      <th>YearMonth</th>\n",
       "    </tr>\n",
       "  </thead>\n",
       "  <tbody>\n",
       "    <tr>\n",
       "      <th>0</th>\n",
       "      <td>1</td>\n",
       "      <td>1</td>\n",
       "      <td>2010-02-05</td>\n",
       "      <td>24924.50</td>\n",
       "      <td>False</td>\n",
       "      <td>2010-02</td>\n",
       "    </tr>\n",
       "    <tr>\n",
       "      <th>277665</th>\n",
       "      <td>29</td>\n",
       "      <td>5</td>\n",
       "      <td>2010-02-05</td>\n",
       "      <td>15552.08</td>\n",
       "      <td>False</td>\n",
       "      <td>2010-02</td>\n",
       "    </tr>\n",
       "    <tr>\n",
       "      <th>277808</th>\n",
       "      <td>29</td>\n",
       "      <td>6</td>\n",
       "      <td>2010-02-05</td>\n",
       "      <td>3200.22</td>\n",
       "      <td>False</td>\n",
       "      <td>2010-02</td>\n",
       "    </tr>\n",
       "    <tr>\n",
       "      <th>277951</th>\n",
       "      <td>29</td>\n",
       "      <td>7</td>\n",
       "      <td>2010-02-05</td>\n",
       "      <td>10820.05</td>\n",
       "      <td>False</td>\n",
       "      <td>2010-02</td>\n",
       "    </tr>\n",
       "  </tbody>\n",
       "</table>\n",
       "</div>"
      ],
      "text/plain": [
       "        Store  Dept       Date  Weekly_Sales  IsHoliday YearMonth\n",
       "0           1     1 2010-02-05      24924.50      False   2010-02\n",
       "277665     29     5 2010-02-05      15552.08      False   2010-02\n",
       "277808     29     6 2010-02-05       3200.22      False   2010-02\n",
       "277951     29     7 2010-02-05      10820.05      False   2010-02"
      ]
     },
     "execution_count": 15,
     "metadata": {},
     "output_type": "execute_result"
    }
   ],
   "source": [
    "df.head(4)"
   ]
  },
  {
   "cell_type": "code",
   "execution_count": 16,
   "id": "938dcd2a-4a3f-4e8b-b23b-a7138d7b1ee0",
   "metadata": {},
   "outputs": [],
   "source": [
    "df.to_csv(\"cleaned_walmart_sales.csv\", index=False)"
   ]
  }
 ],
 "metadata": {
  "kernelspec": {
   "display_name": "Python [conda env:base] *",
   "language": "python",
   "name": "conda-base-py"
  },
  "language_info": {
   "codemirror_mode": {
    "name": "ipython",
    "version": 3
   },
   "file_extension": ".py",
   "mimetype": "text/x-python",
   "name": "python",
   "nbconvert_exporter": "python",
   "pygments_lexer": "ipython3",
   "version": "3.12.4"
  }
 },
 "nbformat": 4,
 "nbformat_minor": 5
}
